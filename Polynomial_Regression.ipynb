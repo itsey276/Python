{
  "nbformat": 4,
  "nbformat_minor": 0,
  "metadata": {
    "colab": {
      "provenance": []
    },
    "kernelspec": {
      "name": "python3",
      "display_name": "Python 3"
    },
    "language_info": {
      "name": "python"
    }
  },
  "cells": [
    {
      "cell_type": "code",
      "execution_count": 1,
      "metadata": {
        "id": "p8aKj6UEBAxx"
      },
      "outputs": [],
      "source": [
        "import pandas as pd\n",
        "import numpy as np"
      ]
    },
    {
      "cell_type": "code",
      "source": [
        "# prompt: create a list of 100 random values between 1 and 10\n",
        "\n",
        "x1 = np.random.randint(1, 11, 100)\n",
        "x2 = np.random.randint(1, 11, 100)"
      ],
      "metadata": {
        "id": "ra3tMSBFW1sI"
      },
      "execution_count": 29,
      "outputs": []
    },
    {
      "cell_type": "code",
      "source": [
        "y = 7 + 5*x1 + x2 + 9*x1**2 + 5*x1*x2 + 2*x2**2"
      ],
      "metadata": {
        "id": "zTl5_7ikZEsJ"
      },
      "execution_count": 30,
      "outputs": []
    },
    {
      "cell_type": "code",
      "source": [
        "x1 = x1.reshape(-1, 1)\n",
        "x2 = x2.reshape(-1, 1)\n",
        "X = np.concatenate([x1, x2], axis = 1)"
      ],
      "metadata": {
        "id": "kOF7btrzYIW2"
      },
      "execution_count": 31,
      "outputs": []
    },
    {
      "cell_type": "code",
      "source": [
        "suffix_data = np.concatenate([X,y.reshape(-1,1)], axis = 1)"
      ],
      "metadata": {
        "id": "_gArOMfMaxSB"
      },
      "execution_count": 35,
      "outputs": []
    },
    {
      "cell_type": "code",
      "source": [
        "np.savetxt('suffix_dat.csv', suffix_data, delimiter = ',')"
      ],
      "metadata": {
        "id": "3jebmFuLbITW"
      },
      "execution_count": 41,
      "outputs": []
    },
    {
      "cell_type": "code",
      "source": [
        "# prompt: Create a model using scikit-learn that transforms X using PolynomialFeatures with n=2 (quadratic) and performs linear regression on  y to estimate coefficients\n",
        "\n",
        "from sklearn.preprocessing import PolynomialFeatures\n",
        "from sklearn.linear_model import LinearRegression\n",
        "from sklearn.pipeline import Pipeline\n",
        "model = Pipeline([('poly', PolynomialFeatures(degree=2)),('linear', LinearRegression(fit_intercept=False))])\n",
        "model = model.fit(X, y)\n",
        "coeffs = model.named_steps['linear'].coef_"
      ],
      "metadata": {
        "id": "iQx6QAj2BTRJ"
      },
      "execution_count": 32,
      "outputs": []
    },
    {
      "cell_type": "code",
      "source": [
        "print(coeffs)"
      ],
      "metadata": {
        "colab": {
          "base_uri": "https://localhost:8080/"
        },
        "id": "nKiW32sEYgS2",
        "outputId": "89f13a1b-53d2-4540-8b01-bba2fb8a1903"
      },
      "execution_count": 33,
      "outputs": [
        {
          "output_type": "stream",
          "name": "stdout",
          "text": [
            "[7. 5. 1. 9. 5. 2.]\n"
          ]
        }
      ]
    },
    {
      "cell_type": "code",
      "source": [
        "# prompt: print coefficient names\n",
        "\n",
        "poly_features = model.named_steps['poly']\n",
        "feature_names = poly_features.get_feature_names_out(['x1', 'x2'])\n",
        "feature_names"
      ],
      "metadata": {
        "colab": {
          "base_uri": "https://localhost:8080/"
        },
        "id": "IUvFFBT2aXsn",
        "outputId": "94f0a8e4-381f-481a-e80e-9c4170437991"
      },
      "execution_count": 34,
      "outputs": [
        {
          "output_type": "execute_result",
          "data": {
            "text/plain": [
              "array(['1', 'x1', 'x2', 'x1^2', 'x1 x2', 'x2^2'], dtype=object)"
            ]
          },
          "metadata": {},
          "execution_count": 34
        }
      ]
    }
  ]
}